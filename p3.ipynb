{
 "cells": [
  {
   "cell_type": "markdown",
   "id": "85aca79c",
   "metadata": {},
   "source": [
    "# 替换香音的瞳色\n",
    "我们对属于香音瞳色的区域的HSV值进行这样一个替换\n",
    "$$H'=\\alpha_1(H-\\beta_1)+\\gamma_1$$\n",
    "$$S'=\\alpha_2(S-\\beta_2)+\\gamma_2$$\n",
    "$$V'=\\alpha_3(V-\\beta_3)+\\gamma_3$$\n",
    "其中convert_param的格式是$[[\\beta_1,\\beta_2,\\beta_3],[\\alpha_1,\\alpha_2,\\alpha_3],[\\gamma_1,\\gamma_2,\\gamma_3]]$"
   ]
  },
  {
   "cell_type": "code",
   "execution_count": 2,
   "id": "6387d2f9",
   "metadata": {},
   "outputs": [],
   "source": [
    "%matplotlib inline\n",
    "import cv2\n",
    "import numpy as np\n",
    "def kanon_kuku(input,convert_param):\n",
    "    lower=np.array([104,75,62])\n",
    "    upper=np.array([160,238,251])\n",
    "    mask=cv2.inRange(input,lower,upper).copy().astype(\"float\")\n",
    "    mask=mask/255\n",
    "    notmask=1.0-mask\n",
    "    input=input.copy().astype(\"float64\")\n",
    "    inputmask=np.zeros_like(input)\n",
    "    inputmask[:,:,0]=input[:,:,0]*mask\n",
    "    inputmask[:,:,1]=input[:,:,1]*mask \n",
    "    inputmask[:,:,2]=input[:,:,2]*mask\n",
    "    inputnotmask=np.zeros_like(input)\n",
    "    inputnotmask[:,:,0]=input[:,:,0]*notmask\n",
    "    inputnotmask[:,:,1]=input[:,:,1]*notmask \n",
    "    inputnotmask[:,:,2]=input[:,:,2]*notmask\n",
    "    inputmask[:,:,0]=((inputmask[:,:,0]-convert_param[0][0])*convert_param[1][0]+convert_param[2][0])*mask\n",
    "    inputmask[:,:,1]=((inputmask[:,:,1]-convert_param[0][1])*convert_param[1][1]+convert_param[2][1])*mask\n",
    "    inputmask[:,:,2]=((inputmask[:,:,2]-convert_param[0][2])*convert_param[1][2]+convert_param[2][2])*mask\n",
    "    output=inputmask+inputnotmask\n",
    "    return output.astype(np.uint8)\n",
    "convert_param=[[104,75,62],[1.31481481481,1.20552147239,0.687830687],[60,50,125]]\n",
    "\n",
    "kanon=cv2.imread(\"kanon.png\")\n",
    "kanon_HSV=cv2.cvtColor(kanon,cv2.COLOR_BGR2HSV)\n",
    "kanon_convert_HSV=kanon_kuku(kanon_HSV,convert_param)\n",
    "kanon_convert=cv2.cvtColor(kanon_convert_HSV,cv2.COLOR_HSV2BGR)\n",
    "cv2.imshow(\"kanon\",kanon_convert)\n",
    "cv2.waitKey(0)\n",
    "cv2.destroyAllWindows()"
   ]
  },
  {
   "cell_type": "code",
   "execution_count": 3,
   "id": "5d7278bc",
   "metadata": {},
   "outputs": [],
   "source": [
    "kanon2=cv2.imread(\"kanon2.png\")\n",
    "kanon_HSV2=cv2.cvtColor(kanon2,cv2.COLOR_BGR2HSV)\n",
    "kanon_convert_HSV2=kanon_kuku(kanon_HSV2,convert_param)\n",
    "kanon_convert2=cv2.cvtColor(kanon_convert_HSV2,cv2.COLOR_HSV2BGR)\n",
    "cv2.imshow(\"kanon\",kanon_convert2)\n",
    "cv2.waitKey(0)\n",
    "cv2.destroyAllWindows()"
   ]
  },
  {
   "cell_type": "code",
   "execution_count": null,
   "id": "64840122",
   "metadata": {},
   "outputs": [],
   "source": []
  }
 ],
 "metadata": {
  "kernelspec": {
   "display_name": "Python 3 (ipykernel)",
   "language": "python",
   "name": "python3"
  },
  "language_info": {
   "codemirror_mode": {
    "name": "ipython",
    "version": 3
   },
   "file_extension": ".py",
   "mimetype": "text/x-python",
   "name": "python",
   "nbconvert_exporter": "python",
   "pygments_lexer": "ipython3",
   "version": "3.7.9"
  }
 },
 "nbformat": 4,
 "nbformat_minor": 5
}
