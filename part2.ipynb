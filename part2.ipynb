{
 "cells": [
  {
   "cell_type": "markdown",
   "id": "c5112a8a",
   "metadata": {},
   "source": [
    "# 读取图片\n",
    "注意！图片必须和程序在同一个文件夹内\n",
    "\n",
    "第一段代码（%matplotlib inline）是用于在jupyter notebook上运行opencv用的"
   ]
  },
  {
   "cell_type": "code",
   "execution_count": 1,
   "id": "efb3d900",
   "metadata": {},
   "outputs": [],
   "source": [
    "%matplotlib inline\n",
    "import cv2 \n",
    "import numpy as np\n",
    "kanon=cv2.imread(\"kanon.png\")\n",
    "cv2.imshow(\"kanon\",kanon)\n",
    "cv2.waitKey(0)\n",
    "cv2.destroyAllWindows()"
   ]
  },
  {
   "cell_type": "markdown",
   "id": "3b62e1e1",
   "metadata": {},
   "source": [
    "# 把香音图变成HSV格式\n",
    "现在香音图已经被读成一个1080x1920x3的数组kanon了\n",
    "\n",
    "使用 cv2.cvtColor(kanon,cv2.COLOR_BGR2HSV) 将香音图转换为HSV格式，我们把这个数组成为kanonHSV"
   ]
  },
  {
   "cell_type": "code",
   "execution_count": 2,
   "id": "c3c8977f",
   "metadata": {},
   "outputs": [],
   "source": [
    "kanonHSV=cv2.cvtColor(kanon,cv2.COLOR_BGR2HSV)\n",
    "cv2.imshow(\"kanon HSV\",kanonHSV)\n",
    "cv2.waitKey(0)\n",
    "cv2.destroyAllWindows()"
   ]
  },
  {
   "cell_type": "markdown",
   "id": "27ea6807",
   "metadata": {},
   "source": [
    "有了HSV的香音，我们现在尝试给香音戴上面具（mask），只保留瞳色，我们用cv2.inRange(kanonHSV,lower,upper)来实现\n",
    "1. upper是一个长度为3的数组，储存了HSV的上限，换句话说，储存了($H_{max}$,$S_{max}$,$V_{max}$)，我使用的upper是 np.array([160,238,251])\n",
    "2. lower储存了HSV的下限，换句话说，储存了($H_{min}$,$S_{min}$,$V_{min}$)，我使用的lower是 np.array([104,75,62])\n",
    "\n",
    "inRange(image,lower,upper)对于图中的每一个像素，如果$H_{min}<H<H_{max}$,$S_{min}<S<S_{max}$并且$V_{min}<V<V_{max}$，它会给你255（对于一张黑白图，它代表了白色），反之，它会给你0（对于一张黑白图，它代表了黑色）。我根据mask输出的结果，将每个不在upper，lower范围内的像素涂黑。"
   ]
  },
  {
   "cell_type": "code",
   "execution_count": 3,
   "id": "05938e1b",
   "metadata": {},
   "outputs": [],
   "source": [
    "lower=np.array([104,75,62])\n",
    "upper=np.array([160,238,251])\n",
    "mask=cv2.inRange(kanonHSV,lower,upper)//255\n",
    "\n",
    "mask3=np.zeros_like(kanon)\n",
    "mask3[:,:,0]=mask\n",
    "mask3[:,:,1]=mask\n",
    "mask3[:,:,2]=mask\n",
    "\n",
    "cv2.imshow(\"kanon mask\",kanon*mask3)\n",
    "cv2.waitKey(0)\n",
    "cv2.destroyAllWindows()"
   ]
  },
  {
   "cell_type": "markdown",
   "id": "41c3c522",
   "metadata": {},
   "source": [
    "下面我们来尝试找一找不同的upper和lower会怎么样筛选颜色，下面这段程序将会显示一个控制板，让我们控制$H_{min}$,$H_{max}$,$S_{min}$,$S_{max}$,$V_{min}$$V_{max}$"
   ]
  },
  {
   "cell_type": "code",
   "execution_count": 4,
   "id": "c539e351",
   "metadata": {},
   "outputs": [],
   "source": [
    "#我们把kanon和kanonHSV缩小一点\n",
    "kanon=cv2.resize(kanon,(1920//4,1080//4))\n",
    "kanonHSV=cv2.resize(kanonHSV,(1920//4,1080//4))\n",
    "\n",
    "cv2.namedWindow(\"Trackbar\")\n",
    "\n",
    "#创建控制面板\n",
    "\n",
    "def empty(a):\n",
    "    pass\n",
    "cv2.createTrackbar(\"Hue_min\",\"Trackbar\",0,179,empty)\n",
    "cv2.createTrackbar(\"Hue_max\",\"Trackbar\",179,179,empty)\n",
    "cv2.createTrackbar(\"Sat_min\",\"Trackbar\",0,255,empty)\n",
    "cv2.createTrackbar(\"Sat_max\",\"Trackbar\",255,255,empty)\n",
    "cv2.createTrackbar(\"Val_min\",\"Trackbar\",0,255,empty)\n",
    "cv2.createTrackbar(\"Val_max\",\"Trackbar\",255,255,empty)\n",
    "\n",
    "while True:\n",
    "    h_min=cv2.getTrackbarPos(\"Hue_min\",\"Trackbar\")\n",
    "    h_max=cv2.getTrackbarPos(\"Hue_max\",\"Trackbar\")\n",
    "    s_min=cv2.getTrackbarPos(\"Sat_min\",\"Trackbar\")\n",
    "    s_max=cv2.getTrackbarPos(\"Sat_max\",\"Trackbar\")\n",
    "    v_min=cv2.getTrackbarPos(\"Val_min\",\"Trackbar\")\n",
    "    v_max=cv2.getTrackbarPos(\"Val_max\",\"Trackbar\")\n",
    "\n",
    "    lower=np.array([h_min,s_min,v_min])\n",
    "    upper=np.array([h_max,s_max,v_max])\n",
    "    \n",
    "    mask=cv2.inRange(kanonHSV,lower,upper)//255\n",
    "    mask3=np.zeros_like(kanon)\n",
    "    mask3[:,:,0]=mask\n",
    "    mask3[:,:,1]=mask\n",
    "    mask3[:,:,2]=mask\n",
    "    \n",
    "\n",
    "\n",
    "    cv2.imshow(\"kanon\",kanon)\n",
    "\n",
    "    cv2.imshow(\"Mask\",(mask3*kanon))\n",
    "    \n",
    "    if cv2.waitKey(1)& 0xff==ord(\"q\"):\n",
    "        break\n",
    "\n",
    "cv2.destroyAllWindows()\n",
    "\n"
   ]
  }
 ],
 "metadata": {
  "kernelspec": {
   "display_name": "Python 3 (ipykernel)",
   "language": "python",
   "name": "python3"
  },
  "language_info": {
   "codemirror_mode": {
    "name": "ipython",
    "version": 3
   },
   "file_extension": ".py",
   "mimetype": "text/x-python",
   "name": "python",
   "nbconvert_exporter": "python",
   "pygments_lexer": "ipython3",
   "version": "3.7.9"
  }
 },
 "nbformat": 4,
 "nbformat_minor": 5
}
