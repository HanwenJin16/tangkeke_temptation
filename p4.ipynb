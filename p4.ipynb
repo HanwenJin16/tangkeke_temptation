{
 "cells": [
  {
   "cell_type": "markdown",
   "id": "77595b8a",
   "metadata": {},
   "source": [
    "# 用人工智能查找香音的眼睛\n",
    "我们从之前的例子可以看出，如果不屏蔽非眼睛区域，非眼睛区域的紫色也会被替换，我们也就没法使用这些图片来做视频了。所以接下来，我将会用人工智能缩小眼睛的范围。我们要用到anime-eyes-cascade.xml这个cascade。我们先打开那张换色不太好的图片kanon2.png"
   ]
  },
  {
   "cell_type": "code",
   "execution_count": 1,
   "id": "148d5648",
   "metadata": {},
   "outputs": [],
   "source": [
    "%matplotlib inline\n",
    "import cv2 \n",
    "import numpy as np\n",
    "kanon=cv2.imread(\"kanon2.png\")\n",
    "\n",
    "\n"
   ]
  },
  {
   "cell_type": "markdown",
   "id": "ed6d9ebb",
   "metadata": {},
   "source": [
    "我们打开训练好的eye cascade分类器，这个分类器eye_cascade的输入是一张图片，它会输出一组正方形(x,y,w,h)的数组eyes，代表着它查到的眼睛。"
   ]
  },
  {
   "cell_type": "code",
   "execution_count": 2,
   "id": "20da2dd1",
   "metadata": {},
   "outputs": [
    {
     "name": "stdout",
     "output_type": "stream",
     "text": [
      "[[1212  298  122  122]\n",
      " [1034  311  106  106]]\n"
     ]
    }
   ],
   "source": [
    "eye_cascade=cv2.CascadeClassifier(\"anime-eyes-cascade.xml\")\n",
    "eyes=eye_cascade.detectMultiScale(kanon, scaleFactor = 1.2,minNeighbors = 4)\n",
    "print(eyes)"
   ]
  },
  {
   "cell_type": "markdown",
   "id": "65b9dac7",
   "metadata": {},
   "source": [
    "我们给用rectangle函数画出查到的眼睛。"
   ]
  },
  {
   "cell_type": "code",
   "execution_count": 3,
   "id": "5b8550ed",
   "metadata": {},
   "outputs": [],
   "source": [
    "for (x,y,w,h) in eyes:\n",
    "    cv2.rectangle(kanon,(x,y),(x+w,y+h),(33, 162, 234),5)\n",
    "cv2.imshow(\"kanon\",kanon)\n",
    "cv2.waitKey(0)\n",
    "cv2.destroyAllWindows()"
   ]
  },
  {
   "cell_type": "markdown",
   "id": "3ec78931",
   "metadata": {},
   "source": [
    "然后我们只转化eyes区域内的像素"
   ]
  },
  {
   "cell_type": "code",
   "execution_count": 4,
   "id": "3e865b6a",
   "metadata": {},
   "outputs": [],
   "source": [
    "def kanon_kuku(input,convert_param):\n",
    "    input=cv2.cvtColor(input,cv2.COLOR_BGR2HSV)\n",
    "    lower=np.array([104,75,62])\n",
    "    upper=np.array([160,238,251])\n",
    "    mask=cv2.inRange(input,lower,upper).copy().astype(\"float\")\n",
    "    mask=mask/255\n",
    "    notmask=1.0-mask\n",
    "    input=input.copy().astype(\"float64\")\n",
    "    inputmask=np.zeros_like(input)\n",
    "    inputmask[:,:,0]=input[:,:,0]*mask\n",
    "    inputmask[:,:,1]=input[:,:,1]*mask \n",
    "    inputmask[:,:,2]=input[:,:,2]*mask\n",
    "    inputnotmask=np.zeros_like(input)\n",
    "    inputnotmask[:,:,0]=input[:,:,0]*notmask\n",
    "    inputnotmask[:,:,1]=input[:,:,1]*notmask \n",
    "    inputnotmask[:,:,2]=input[:,:,2]*notmask\n",
    "    inputmask[:,:,0]=((inputmask[:,:,0]-convert_param[0][0])*convert_param[1][0]+convert_param[2][0])*mask\n",
    "    inputmask[:,:,1]=((inputmask[:,:,1]-convert_param[0][1])*convert_param[1][1]+convert_param[2][1])*mask\n",
    "    inputmask[:,:,2]=((inputmask[:,:,2]-convert_param[0][2])*convert_param[1][2]+convert_param[2][2])*mask\n",
    "    output=inputmask+inputnotmask\n",
    "    return cv2.cvtColor(output.astype(np.uint8),cv2.COLOR_HSV2BGR)\n",
    "\n",
    "convert_param=[[104,75,62],[1.31481481481,1.20552147239,0.687830687],[60,50,125]]\n",
    "\n",
    "def process_boxes(boxes):\n",
    "    if len(boxes)==0:\n",
    "        return None\n",
    "    else:\n",
    "        new_box=[]\n",
    "        for box in boxes:\n",
    "            a=box[0]\n",
    "            b=box[1]\n",
    "            c=box[2]\n",
    "            d=box[3]\n",
    "            ai=int(a)\n",
    "            bi=int(b)\n",
    "            ci=int(c)\n",
    "            di=int(d)\n",
    "            new_box.append((ai,bi,ci,di))\n",
    "        return new_box\n",
    "\n",
    "for eye in eyes:\n",
    "    x,y,w,h=eye\n",
    "    eye_pixels=kanon[y:y+h,x:x+w,:]\n",
    "    eye_pixels=kanon_kuku(eye_pixels,convert_param)\n",
    "    kanon[y:y+h,x:x+w,:]=eye_pixels\n",
    "    \n",
    "cv2.imshow(\"kanon\",kanon)\n",
    "cv2.waitKey(0)\n",
    "cv2.destroyAllWindows()"
   ]
  },
  {
   "cell_type": "code",
   "execution_count": null,
   "id": "212965e8",
   "metadata": {},
   "outputs": [],
   "source": []
  }
 ],
 "metadata": {
  "kernelspec": {
   "display_name": "Python 3 (ipykernel)",
   "language": "python",
   "name": "python3"
  },
  "language_info": {
   "codemirror_mode": {
    "name": "ipython",
    "version": 3
   },
   "file_extension": ".py",
   "mimetype": "text/x-python",
   "name": "python",
   "nbconvert_exporter": "python",
   "pygments_lexer": "ipython3",
   "version": "3.7.9"
  }
 },
 "nbformat": 4,
 "nbformat_minor": 5
}
